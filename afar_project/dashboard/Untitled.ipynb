{
 "cells": [
  {
   "cell_type": "code",
   "execution_count": 2,
   "id": "8d6e6c14-7143-465d-b684-add76298d2c7",
   "metadata": {},
   "outputs": [],
   "source": [
    "from django.shortcuts import render\n",
    "from django.http import request\n",
    "import pandas as pd"
   ]
  },
  {
   "cell_type": "code",
   "execution_count": 6,
   "id": "b7f52a6b-6a6b-435e-ab52-9855ec4c40cd",
   "metadata": {},
   "outputs": [
    {
     "name": "stdout",
     "output_type": "stream",
     "text": [
      "                           Category Number\n",
      "0                  Office equipment     47\n",
      "1   Computer and Computer Equiments     33\n",
      "2                         Furniture     60\n",
      "3                Telecommunications      5\n",
      "4                    Motor Vehicles      5\n",
      "5                       Civil Works     10\n",
      "6         Internet and PABX System      11\n",
      "7                 Sanitary Fittings     20\n",
      "8                    Speaker System      5\n",
      "9      Electrical Wire and Fittings     39\n",
      "10                      Paint Works      5\n",
      "11           Interior Fit-out Works     33\n",
      "12            Furniture (Leasehold)     27\n",
      "13        Total Number of Assets is    300\n"
     ]
    }
   ],
   "source": [
    "\n",
    "file_path = r'asset_register.xlsx'  # Replace with the actual file path\n",
    "df = pd.read_excel(file_path)\n",
    "list_primary=df['Category'].drop_duplicates()\n",
    "list_primary=list_primary.dropna()\n",
    "total =0\n",
    "table=pd.DataFrame(columns=['Category','Number'])\n",
    "for i in list_primary:\n",
    "    j = df[df['Category'] == i].shape[0]\n",
    "    new_row = pd.DataFrame({'Category': [i], 'Number': [j]})\n",
    "    table = pd.concat([table, new_row], ignore_index=True)\n",
    "    total += j\n",
    "new_row = pd.DataFrame({'Category': \"Total Number of Assets is\" , 'Number': [total]})\n",
    "table = pd.concat([table, new_row], ignore_index=True)\n",
    "table_of_summary=table\n",
    "print(table_of_summary)\n",
    "\n",
    "    "
   ]
  },
  {
   "cell_type": "code",
   "execution_count": null,
   "id": "1f121515-5438-49fd-a810-1bcc11158cee",
   "metadata": {},
   "outputs": [],
   "source": []
  },
  {
   "cell_type": "code",
   "execution_count": null,
   "id": "d927f9a4-ccd3-48bf-b04b-fc64fbc3948a",
   "metadata": {},
   "outputs": [],
   "source": []
  }
 ],
 "metadata": {
  "kernelspec": {
   "display_name": "Python 3 (ipykernel)",
   "language": "python",
   "name": "python3"
  },
  "language_info": {
   "codemirror_mode": {
    "name": "ipython",
    "version": 3
   },
   "file_extension": ".py",
   "mimetype": "text/x-python",
   "name": "python",
   "nbconvert_exporter": "python",
   "pygments_lexer": "ipython3",
   "version": "3.12.0"
  }
 },
 "nbformat": 4,
 "nbformat_minor": 5
}
