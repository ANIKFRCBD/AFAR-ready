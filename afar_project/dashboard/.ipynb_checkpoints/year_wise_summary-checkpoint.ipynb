{
 "cells": [
  {
   "cell_type": "code",
   "execution_count": 35,
   "id": "c27fd67f-4b33-451e-adcc-2d987c009042",
   "metadata": {},
   "outputs": [],
   "source": [
    "from django.shortcuts import render\n",
    "from django.http import request\n",
    "import pandas as pd"
   ]
  },
  {
   "cell_type": "code",
   "execution_count": 78,
   "id": "0251bdf6-bdd1-48d7-bded-74f6ea513324",
   "metadata": {},
   "outputs": [
    {
     "name": "stdout",
     "output_type": "stream",
     "text": [
      "<table border=\"1\" class=\"dataframe\">\n",
      "  <thead>\n",
      "    <tr style=\"text-align: right;\">\n",
      "      <th></th>\n",
      "      <th>Financial Year</th>\n",
      "      <th>Number</th>\n",
      "    </tr>\n",
      "  </thead>\n",
      "  <tbody>\n",
      "    <tr>\n",
      "      <th>0</th>\n",
      "      <td>2017-2018</td>\n",
      "      <td>53</td>\n",
      "    </tr>\n",
      "    <tr>\n",
      "      <th>1</th>\n",
      "      <td>2018-2019</td>\n",
      "      <td>57</td>\n",
      "    </tr>\n",
      "    <tr>\n",
      "      <th>2</th>\n",
      "      <td>2019-2020</td>\n",
      "      <td>18</td>\n",
      "    </tr>\n",
      "    <tr>\n",
      "      <th>3</th>\n",
      "      <td>2020-2021</td>\n",
      "      <td>14</td>\n",
      "    </tr>\n",
      "    <tr>\n",
      "      <th>4</th>\n",
      "      <td>2021-2022</td>\n",
      "      <td>158</td>\n",
      "    </tr>\n",
      "    <tr>\n",
      "      <th>5</th>\n",
      "      <td>the total is</td>\n",
      "      <td>300</td>\n",
      "    </tr>\n",
      "  </tbody>\n",
      "</table>\n"
     ]
    }
   ],
   "source": [
    "file_path = r'asset_register.xlsx'  # Replace with the actual file path\n",
    "df = pd.read_excel(file_path)\n",
    "list_primary=df['Financial Year']\n",
    "list_primary=list_primary.drop_duplicates().dropna()\n",
    "table=pd.DataFrame(columns=['Financial Year','Number'])\n",
    "total=0\n",
    "for i in list_primary:\n",
    "    j = df[df['Financial Year'] == i].shape[0]\n",
    "    new_row = pd.DataFrame({'Financial Year': [i], 'Number': [j]})\n",
    "    table = pd.concat([table, new_row], ignore_index=True)\n",
    "    total += j\n",
    "new_list=table\n",
    "last_line=pd.DataFrame([{\"Financial Year\":'the total is','Number': total}])\n",
    "table = pd.concat([new_list, last_line], ignore_index=True).to_html()\n",
    "print(table)"
   ]
  },
  {
   "cell_type": "code",
   "execution_count": null,
   "id": "7eaed4f3-ecea-4cc0-8f39-f0580f5b04cc",
   "metadata": {},
   "outputs": [],
   "source": []
  }
 ],
 "metadata": {
  "kernelspec": {
   "display_name": "Python 3 (ipykernel)",
   "language": "python",
   "name": "python3"
  },
  "language_info": {
   "codemirror_mode": {
    "name": "ipython",
    "version": 3
   },
   "file_extension": ".py",
   "mimetype": "text/x-python",
   "name": "python",
   "nbconvert_exporter": "python",
   "pygments_lexer": "ipython3",
   "version": "3.12.1"
  }
 },
 "nbformat": 4,
 "nbformat_minor": 5
}
