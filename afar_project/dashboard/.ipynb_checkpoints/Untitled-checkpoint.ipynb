{
 "cells": [
  {
   "cell_type": "code",
   "execution_count": 1,
   "id": "8d6e6c14-7143-465d-b684-add76298d2c7",
   "metadata": {},
   "outputs": [],
   "source": [
    "from django.shortcuts import render\n",
    "from django.http import request\n",
    "import pandas as pd"
   ]
  },
  {
   "cell_type": "code",
   "execution_count": 45,
   "id": "b7f52a6b-6a6b-435e-ab52-9855ec4c40cd",
   "metadata": {},
   "outputs": [
    {
     "name": "stdout",
     "output_type": "stream",
     "text": [
      "Office equipment :47\n",
      "Computer and Computer Equiments :33\n",
      "Furniture :60\n",
      "Telecommunications :5\n",
      "Motor Vehicles :5\n",
      "Civil Works :10\n",
      "Internet and PABX System  :11\n",
      "Sanitary Fittings :20\n",
      "Speaker System :5\n",
      "Electrical Wire and Fittings :39\n",
      "Paint Works :5\n",
      "Interior Fit-out Works :33\n",
      "Furniture (Leasehold) :27\n",
      "total is 300\n"
     ]
    }
   ],
   "source": [
    "\n",
    "file_path = r'asset_register.xlsx'  # Replace with the actual file path\n",
    "df = pd.read_excel(file_path)\n",
    "list_primary=df['Category'].drop_duplicates()\n",
    "list_primary=list_primary.dropna()\n",
    "total =0\n",
    "table=pd.DataFrame()\n",
    "table=table.columns['Category','Number']\n",
    "for i in list_primary:\n",
    "    j=df[df['Category']==i].shape[0]\n",
    "    \n",
    "    total=total+j\n",
    "    print(f'{i} :{j}')\n",
    "print(f\"total is {total}\")\n",
    "    "
   ]
  },
  {
   "cell_type": "code",
   "execution_count": null,
   "id": "1f121515-5438-49fd-a810-1bcc11158cee",
   "metadata": {},
   "outputs": [],
   "source": []
  }
 ],
 "metadata": {
  "kernelspec": {
   "display_name": "Python 3 (ipykernel)",
   "language": "python",
   "name": "python3"
  },
  "language_info": {
   "codemirror_mode": {
    "name": "ipython",
    "version": 3
   },
   "file_extension": ".py",
   "mimetype": "text/x-python",
   "name": "python",
   "nbconvert_exporter": "python",
   "pygments_lexer": "ipython3",
   "version": "3.12.0"
  }
 },
 "nbformat": 4,
 "nbformat_minor": 5
}
