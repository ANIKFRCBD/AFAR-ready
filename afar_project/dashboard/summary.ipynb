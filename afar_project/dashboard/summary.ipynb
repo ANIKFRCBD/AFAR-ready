{
 "cells": [
  {
   "cell_type": "code",
   "execution_count": 3,
   "id": "8d6e6c14-7143-465d-b684-add76298d2c7",
   "metadata": {},
   "outputs": [],
   "source": [
    "from django.shortcuts import render\n",
    "from django.http import request\n",
    "import pandas as pd"
   ]
  },
  {
   "cell_type": "code",
   "execution_count": 34,
   "id": "1f121515-5438-49fd-a810-1bcc11158cee",
   "metadata": {},
   "outputs": [
    {
     "name": "stdout",
     "output_type": "stream",
     "text": [
      "0                     Office equipment\n",
      "9      Computer and Computer Equiments\n",
      "13                           Furniture\n",
      "44                  Telecommunications\n",
      "97                      Motor Vehicles\n",
      "150                        Civil Works\n",
      "160          Internet and PABX System \n",
      "171                  Sanitary Fittings\n",
      "191                     Speaker System\n",
      "196       Electrical Wire and Fittings\n",
      "235                        Paint Works\n",
      "240             Interior Fit-out Works\n",
      "273              Furniture (Leasehold)\n",
      "Name: Category, dtype: object\n",
      "                           Category Number  Expected life\n",
      "0                  Office equipment     47            7.0\n",
      "1   Computer and Computer Equiments     33            5.0\n",
      "2                         Furniture     60           10.0\n",
      "3                Telecommunications      5            7.0\n",
      "4                    Motor Vehicles      5           10.0\n",
      "5                       Civil Works     10           20.0\n",
      "6         Internet and PABX System      11           15.0\n",
      "7                 Sanitary Fittings     20           20.0\n",
      "8                    Speaker System      5           15.0\n",
      "9      Electrical Wire and Fittings     39           15.0\n",
      "10                      Paint Works      5           10.0\n",
      "11           Interior Fit-out Works     33           20.0\n",
      "12            Furniture (Leasehold)     27           15.0\n"
     ]
    }
   ],
   "source": [
    "file_path = r'asset_register.xlsx'  # Replace with the actual file path\n",
    "df = pd.read_excel(file_path)\n",
    "list_primary=df[['Category','Expected life']].drop_duplicates()\n",
    "list_primary=list_primary.dropna()\n",
    "list_count=list_primary['Category']\n",
    "print(list_count)\n",
    "total =0\n",
    "table=pd.DataFrame(columns=['Category','Number'])\n",
    "for i in list_count:\n",
    "    j = df[df['Category'] == i].shape[0]\n",
    "    new_row = pd.DataFrame({'Category': [i], 'Number': [j]})\n",
    "    table = pd.concat([table, new_row], ignore_index=True)\n",
    "    total += j\n",
    "new_list=pd.merge(table,list_primary,on='Category',how='left')\n",
    "print(new_list)"
   ]
  },
  {
   "cell_type": "code",
   "execution_count": null,
   "id": "d927f9a4-ccd3-48bf-b04b-fc64fbc3948a",
   "metadata": {},
   "outputs": [],
   "source": []
  }
 ],
 "metadata": {
  "kernelspec": {
   "display_name": "Python 3 (ipykernel)",
   "language": "python",
   "name": "python3"
  },
  "language_info": {
   "codemirror_mode": {
    "name": "ipython",
    "version": 3
   },
   "file_extension": ".py",
   "mimetype": "text/x-python",
   "name": "python",
   "nbconvert_exporter": "python",
   "pygments_lexer": "ipython3",
   "version": "3.12.1"
  }
 },
 "nbformat": 4,
 "nbformat_minor": 5
}
